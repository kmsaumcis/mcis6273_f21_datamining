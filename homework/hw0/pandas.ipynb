{
 "cells": [
  {
   "cell_type": "code",
   "execution_count": 53,
   "id": "0d0d18c6-40d8-4163-9b53-e97f183034f9",
   "metadata": {},
   "outputs": [
    {
     "name": "stdout",
     "output_type": "stream",
     "text": [
      "5.867704347826082\n",
      "6.646263157894744\n",
      "Year\n",
      "1999     45\n",
      "2000    109\n",
      "2001    115\n",
      "2002    108\n",
      "2003     98\n",
      "2004    119\n",
      "2005    107\n",
      "2006    118\n",
      "2007    114\n",
      "2008    117\n",
      "2009    120\n",
      "2010    109\n",
      "2011     97\n",
      "2012     88\n",
      "2013     91\n",
      "2014     87\n",
      "2015     88\n",
      "2016     59\n",
      "2017     85\n",
      "2018     82\n",
      "dtype: int64\n",
      "Year\n",
      "1999     45\n",
      "2000    109\n",
      "2001    115\n",
      "2002    108\n",
      "2003     98\n",
      "2004    119\n",
      "2005    107\n",
      "2006    118\n",
      "2007    114\n",
      "2008    117\n",
      "2009    120\n",
      "2010    109\n",
      "2011     97\n",
      "2012     88\n",
      "2013     91\n",
      "2014     87\n",
      "2015     88\n",
      "2016     59\n",
      "2017     85\n",
      "2018     82\n",
      "dtype: int64\n"
     ]
    }
   ],
   "source": [
    "import pandas as pd\n",
    "#1. use pandas.read_csv() method to load the dataset into a Pandas DataFrame;\n",
    "df=pd.read_csv('https://ecos.fws.gov/ServCat/DownloadFile/173741?Reference=117348')\n",
    "\n",
    "#2. clean the data so that the range of years is restricted to the 20 year period from 1999 to 2018\n",
    "#filter_range=pd.DataFrame({'Year': range(1999, 2018)})\n",
    "df = df[(df['Year'] >= 1999) & (df['Year'] <= 2018)]\n",
    "\n",
    "#3. store the entire dataset back into a new CSV file called back_bay_1998-2018_clean.csv\n",
    "df.to_csv('back_bay_1998-2018_clean.csv')\n",
    "\n",
    "\n",
    "dataframe=pd.read_csv('back_bay_1998-2018_clean.csv')\n",
    "\n",
    "# 2. What is the mean Dissolved Oxygen (mg/L) over the entire dataset?\n",
    "#This is after the filtered data\n",
    "mean_dissolved_oxygen = df['Dissolved Oxygen (mg/L)'].mean()\n",
    "print(mean_dissolved_oxygen)\n",
    "#This is for the entire dataset\n",
    "import pandas as pd\n",
    "df=pd.read_csv('https://ecos.fws.gov/ServCat/DownloadFile/173741?Reference=117348')\n",
    "\n",
    "mean_dissolved_oxygen = df['Dissolved Oxygen (mg/L)'].mean()\n",
    "print(mean_dissolved_oxygen)\n",
    "\n",
    "#3. Which year were the highest number of AirTemp (C) data points collected?\n",
    "\n",
    "highest_data_points = dataframe.groupby('Year').size()\n",
    "highest_data_points.idxmax()\n",
    "print(highest_data_points)\n",
    "\n",
    "\n",
    "#4. Which year were the least number of `AirTemp (C)` data points collected?\n",
    "\n",
    "lowest_data_points = dataframe.groupby('Year').size()\n",
    "highest_data_points.idxmin()\n",
    "print(lowest_data_points)\n",
    "\n",
    "\n",
    "\n",
    "\n",
    "\n",
    "\n",
    "\n",
    "\n",
    "\n",
    "\n",
    "\n",
    "\n",
    "\n",
    "\n"
   ]
  },
  {
   "cell_type": "code",
   "execution_count": 25,
   "id": "57d77faf-c67c-4e90-bafc-472a963a60e6",
   "metadata": {},
   "outputs": [
    {
     "name": "stdout",
     "output_type": "stream",
     "text": [
      "0.29607528012371914\n"
     ]
    }
   ],
   "source": [
    "import pandas as pd \n",
    "df=pd.read_csv('https://ecos.fws.gov/ServCat/DownloadFile/173741')\n",
    "\n",
    "mean_salinity = df.groupby('Site_Id')['Salinity (ppt)'].mean()\n",
    "\n",
    "correlation_value = df['Salinity (ppt)'].corr(df['pH (standard units)'])\n",
    "print(correlation_value)\n",
    "\n"
   ]
  },
  {
   "cell_type": "code",
   "execution_count": null,
   "id": "1738287d-57e6-4d02-b15a-c5374f789acf",
   "metadata": {},
   "outputs": [],
   "source": [
    "\n"
   ]
  },
  {
   "cell_type": "code",
   "execution_count": null,
   "id": "b13bd025-2ab1-43e8-a983-61d21c5dcf50",
   "metadata": {},
   "outputs": [],
   "source": []
  },
  {
   "cell_type": "code",
   "execution_count": null,
   "id": "384661ff-54a5-45cf-bc92-eb9f77441993",
   "metadata": {},
   "outputs": [],
   "source": []
  },
  {
   "cell_type": "code",
   "execution_count": null,
   "id": "6e931a8e-e871-408c-a9a8-6ddc2affc6d9",
   "metadata": {},
   "outputs": [],
   "source": []
  }
 ],
 "metadata": {
  "kernelspec": {
   "display_name": "Python 3 (ipykernel)",
   "language": "python",
   "name": "python3"
  },
  "language_info": {
   "codemirror_mode": {
    "name": "ipython",
    "version": 3
   },
   "file_extension": ".py",
   "mimetype": "text/x-python",
   "name": "python",
   "nbconvert_exporter": "python",
   "pygments_lexer": "ipython3",
   "version": "3.9.6"
  }
 },
 "nbformat": 4,
 "nbformat_minor": 5
}
